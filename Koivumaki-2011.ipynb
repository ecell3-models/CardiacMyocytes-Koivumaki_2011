{
 "cells": [
  {
   "cell_type": "code",
   "execution_count": 1,
   "metadata": {},
   "outputs": [],
   "source": [
    "import imp\n",
    "try:\n",
    "    imp.find_module(\"ecell\")\n",
    "except ImportError:\n",
    "    import sys\n",
    "    sys.path.append(\"/opt/local/lib/python2.7/site-packages\")\n",
    "    sys.path.append(\"/opt/local/Library/Frameworks/Python.framework/Versions/2.7/lib/python2.7/site-packages\")"
   ]
  },
  {
   "cell_type": "code",
   "execution_count": 2,
   "metadata": {},
   "outputs": [],
   "source": [
    "import biosim_course"
   ]
  },
  {
   "cell_type": "code",
   "execution_count": 3,
   "metadata": {},
   "outputs": [],
   "source": [
    "import numpy as np"
   ]
  },
  {
   "cell_type": "code",
   "execution_count": 4,
   "metadata": {},
   "outputs": [],
   "source": [
    "%matplotlib inline\n",
    "import matplotlib.pyplot as plt"
   ]
  },
  {
   "cell_type": "code",
   "execution_count": 5,
   "metadata": {},
   "outputs": [
    {
     "name": "stdout",
     "output_type": "stream",
     "text": [
      "t = 0.0\n"
     ]
    }
   ],
   "source": [
    "loadModel(\"Koivumaki-2011_pp.em\")\n",
    "\n",
    "print 't = {}'.format( getCurrentTime() )"
   ]
  },
  {
   "cell_type": "code",
   "execution_count": 6,
   "metadata": {},
   "outputs": [
    {
     "name": "stdout",
     "output_type": "stream",
     "text": [
      "Variable:/Cell/Membrane:ECa\n",
      "Variable:/Cell/Membrane:EK\n",
      "Variable:/Cell/Membrane:ENa\n",
      "Variable:/Cell/Membrane:ICaL\n",
      "Variable:/Cell/Membrane:ICaLd\n",
      "Variable:/Cell/Membrane:ICaLdinf\n",
      "Variable:/Cell/Membrane:ICaLdtau\n",
      "Variable:/Cell/Membrane:ICaLf1\n",
      "Variable:/Cell/Membrane:ICaLf1tau\n",
      "Variable:/Cell/Membrane:ICaLf2\n",
      "Variable:/Cell/Membrane:ICaLf2tau\n",
      "Variable:/Cell/Membrane:ICaLfca\n",
      "Variable:/Cell/Membrane:ICaLfcainf\n",
      "Variable:/Cell/Membrane:ICaLfcatau\n",
      "Variable:/Cell/Membrane:ICaLfinf\n",
      "Variable:/Cell/Membrane:ICaP\n",
      "Variable:/Cell/Membrane:ICab\n",
      "Variable:/Cell/Membrane:IK1\n",
      "Variable:/Cell/Membrane:IKr\n",
      "Variable:/Cell/Membrane:IKrpa\n",
      "Variable:/Cell/Membrane:IKrpainf\n",
      "Variable:/Cell/Membrane:IKrpatau\n",
      "Variable:/Cell/Membrane:IKrpi\n",
      "Variable:/Cell/Membrane:IKs\n",
      "Variable:/Cell/Membrane:IKsn\n",
      "Variable:/Cell/Membrane:IKsninf\n",
      "Variable:/Cell/Membrane:IKsntau\n",
      "Variable:/Cell/Membrane:INa\n",
      "Variable:/Cell/Membrane:INaCa\n",
      "Variable:/Cell/Membrane:INaK\n",
      "Variable:/Cell/Membrane:INab\n",
      "Variable:/Cell/Membrane:INah1\n",
      "Variable:/Cell/Membrane:INah1tau\n",
      "Variable:/Cell/Membrane:INah2\n",
      "Variable:/Cell/Membrane:INah2tau\n",
      "Variable:/Cell/Membrane:INahinf\n",
      "Variable:/Cell/Membrane:INam\n",
      "Variable:/Cell/Membrane:INaminf\n",
      "Variable:/Cell/Membrane:INamtau\n",
      "Variable:/Cell/Membrane:If\n",
      "Variable:/Cell/Membrane:IfK\n",
      "Variable:/Cell/Membrane:IfNa\n",
      "Variable:/Cell/Membrane:Ify\n",
      "Variable:/Cell/Membrane:Ifyinf\n",
      "Variable:/Cell/Membrane:Ifytau\n",
      "Variable:/Cell/Membrane:Isus\n",
      "Variable:/Cell/Membrane:Isusr\n",
      "Variable:/Cell/Membrane:Isusrinf\n",
      "Variable:/Cell/Membrane:Isusrtau\n",
      "Variable:/Cell/Membrane:Isuss\n",
      "Variable:/Cell/Membrane:Isussinf\n",
      "Variable:/Cell/Membrane:Isusstau\n",
      "Variable:/Cell/Membrane:It\n",
      "Variable:/Cell/Membrane:Itr\n",
      "Variable:/Cell/Membrane:Itrinf\n",
      "Variable:/Cell/Membrane:Itrtau\n",
      "Variable:/Cell/Membrane:Its\n",
      "Variable:/Cell/Membrane:Itsinf\n",
      "Variable:/Cell/Membrane:Itstau\n",
      "Variable:/Cell/Membrane:SIZE\n",
      "Variable:/Cell/Membrane:V\n",
      "Variable:/Cell/Membrane:ist\n",
      "\n",
      "Variable:/Cell/Cytosol:K_i\n",
      "Variable:/Cell/Cytosol:SIZE\n",
      "\n",
      "Variable:/Cell/Cytosol/ss:Ca\n",
      "Variable:/Cell/Cytosol/ss:Ca_buffer\n",
      "Variable:/Cell/Cytosol/ss:JSRCaleak\n",
      "Variable:/Cell/Cytosol/ss:J_SERCASR\n",
      "Variable:/Cell/Cytosol/ss:J_bulkSERCA\n",
      "Variable:/Cell/Cytosol/ss:Jrel\n",
      "Variable:/Cell/Cytosol/ss:Na\n",
      "Variable:/Cell/Cytosol/ss:Na_buffer\n",
      "Variable:/Cell/Cytosol/ss:RyRa\n",
      "Variable:/Cell/Cytosol/ss:RyRainf\n",
      "Variable:/Cell/Cytosol/ss:RyRc\n",
      "Variable:/Cell/Cytosol/ss:RyRcinf\n",
      "Variable:/Cell/Cytosol/ss:RyRo\n",
      "Variable:/Cell/Cytosol/ss:RyRoinf\n",
      "Variable:/Cell/Cytosol/ss:RyRtauact\n",
      "Variable:/Cell/Cytosol/ss:RyRtauadapt\n",
      "Variable:/Cell/Cytosol/ss:RyRtauinact\n",
      "Variable:/Cell/Cytosol/ss:SERCACa\n",
      "Variable:/Cell/Cytosol/ss:SIZE\n",
      "\n",
      "Process:/Cell/Membrane:ECa\n",
      "Process:/Cell/Membrane:EK\n",
      "Process:/Cell/Membrane:ENa\n",
      "Process:/Cell/Membrane:ICaL\n",
      "Process:/Cell/Membrane:ICaP\n",
      "Process:/Cell/Membrane:ICab\n",
      "Process:/Cell/Membrane:IK1\n",
      "Process:/Cell/Membrane:IKr\n",
      "Process:/Cell/Membrane:IKs\n",
      "Process:/Cell/Membrane:INa\n",
      "Process:/Cell/Membrane:INaCa\n",
      "Process:/Cell/Membrane:INaK\n",
      "Process:/Cell/Membrane:INab\n",
      "Process:/Cell/Membrane:If\n",
      "Process:/Cell/Membrane:Isus\n",
      "Process:/Cell/Membrane:It\n",
      "Process:/Cell/Membrane:JCa_INaCa\n",
      "Process:/Cell/Membrane:JCa_mem\n",
      "Process:/Cell/Membrane:JK_INaK\n",
      "Process:/Cell/Membrane:JK_mem\n",
      "Process:/Cell/Membrane:JNa_mem\n",
      "Process:/Cell/Membrane:dICaLd_dt\n",
      "Process:/Cell/Membrane:dICaLf1_dt\n",
      "Process:/Cell/Membrane:dICaLf2_dt\n",
      "Process:/Cell/Membrane:dICaLfca_dt\n",
      "Process:/Cell/Membrane:dIKrpa_dt\n",
      "Process:/Cell/Membrane:dIKsn_dt\n",
      "Process:/Cell/Membrane:dINah1_dt\n",
      "Process:/Cell/Membrane:dINah2_dt\n",
      "Process:/Cell/Membrane:dINam_dt\n",
      "Process:/Cell/Membrane:dIfy_dt\n",
      "Process:/Cell/Membrane:dIsusr_dt\n",
      "Process:/Cell/Membrane:dIsuss_dt\n",
      "Process:/Cell/Membrane:dItr_dt\n",
      "Process:/Cell/Membrane:dIts_dt\n",
      "Process:/Cell/Membrane:dV_dt\n",
      "Process:/Cell/Membrane:ist\n",
      "\n",
      "\n",
      "Process:/Cell/Cytosol/ss:Ca_buffer\n",
      "Process:/Cell/Cytosol/ss:JSRCaleak\n",
      "Process:/Cell/Cytosol/ss:JSRCaleak_assign\n",
      "Process:/Cell/Cytosol/ss:J_SERCA\n",
      "Process:/Cell/Cytosol/ss:J_SERCASR\n",
      "Process:/Cell/Cytosol/ss:J_bulkSERCA\n",
      "Process:/Cell/Cytosol/ss:Jj_nj\n",
      "Process:/Cell/Cytosol/ss:Jrel\n",
      "Process:/Cell/Cytosol/ss:Jrel_assign\n",
      "Process:/Cell/Cytosol/ss:Na_buffer\n",
      "Process:/Cell/Cytosol/ss:dRyRa_dt\n",
      "Process:/Cell/Cytosol/ss:dRyRc_dt\n",
      "Process:/Cell/Cytosol/ss:dRyRo_dt\n",
      "\n"
     ]
    }
   ],
   "source": [
    "SystemPath_list = ( '/Cell/Membrane', '/Cell/Cytosol', '/Cell/Cytosol/ss', )\n",
    "\n",
    "for an_E_type in ( 'Variable', 'Process' ):\n",
    "    for a_SystemPath in SystemPath_list:\n",
    "        for E in getEntityList( an_E_type, a_SystemPath ):\n",
    "            print( ':'.join( ( an_E_type, a_SystemPath, E )))\n",
    "        print(\"\")"
   ]
  },
  {
   "cell_type": "code",
   "execution_count": 7,
   "metadata": {},
   "outputs": [],
   "source": [
    "Stub_dict = {}\n",
    "\n",
    "for a_SystemPath in SystemPath_list:\n",
    "    for E_type in ('Variable', 'Process'):\n",
    "        for E in getEntityList( E_type, a_SystemPath ):\n",
    "                FullID = ':'.join( ( E_type, a_SystemPath, E ) )\n",
    "                Stub_dict[ FullID ] = createEntityStub( FullID )\n",
    "\n",
    "def get_FullPN_value( a_FullPN ):\n",
    "    a_FullPN_list = a_FullPN.split(':')\n",
    "    a_FullID = ':'.join(a_FullPN_list[:3])\n",
    "    return Stub_dict[ a_FullID ][ a_FullPN_list[3] ]\n",
    "\n"
   ]
  },
  {
   "cell_type": "code",
   "execution_count": 8,
   "metadata": {},
   "outputs": [],
   "source": [
    "Target_Properties = dict(\n",
    "    Variable = ['Value', 'MolarConc', 'Velocity'], \n",
    "    Process  = ['Activity'],)\n",
    "Logger_dict = {}\n",
    "\n",
    "for a_SystemPath in SystemPath_list:\n",
    "    for E_type, Properties in Target_Properties.items():\n",
    "        for E in getEntityList( E_type, a_SystemPath ):\n",
    "            for p in Properties:\n",
    "                FullPN = ':'.join( ( E_type, a_SystemPath, E, p ) )\n",
    "                Logger_dict[ FullPN ] = createLoggerStub( FullPN )\n",
    "                Logger_dict[ FullPN ].create()\n",
    "\n"
   ]
  },
  {
   "cell_type": "code",
   "execution_count": 9,
   "metadata": {},
   "outputs": [],
   "source": [
    "t0 = dict( t = getCurrentTime() )\n",
    "\n",
    "for a_FullID, a_Stub in Stub_dict.items():\n",
    "    if a_FullID.split(':')[0] == 'Variable':\n",
    "        t0[ a_FullID + ':Value' ] = a_Stub['Value']\n",
    "        t0[ a_FullID + ':MolarConc' ] = a_Stub['MolarConc']        "
   ]
  },
  {
   "cell_type": "code",
   "execution_count": 10,
   "metadata": {},
   "outputs": [
    {
     "name": "stdout",
     "output_type": "stream",
     "text": [
      "t = 3.0\n"
     ]
    }
   ],
   "source": [
    "# step_width = 1.0e-2  # sec\n",
    "step_width = 3.0  # sec\n",
    "\n",
    "run( step_width )\n",
    "print 't = {}'.format( getCurrentTime() )"
   ]
  },
  {
   "cell_type": "code",
   "execution_count": 11,
   "metadata": {},
   "outputs": [],
   "source": [
    "Data_dict = {}\n",
    "for FullPN, Logger in Logger_dict.items():\n",
    "    #Data_dict[ FullPN ] = np.array( Logger.getData( 0, 0.0005 ) )[ :, :2 ]\n",
    "    Data_dict[ FullPN ] = np.array( Logger.getData( 0, getCurrentTime(), getCurrentTime()/1000.0 ) )[ :, :2 ]"
   ]
  },
  {
   "cell_type": "code",
   "execution_count": 12,
   "metadata": {},
   "outputs": [],
   "source": [
    "FullPNs_for_plot = [ \n",
    "    'Variable:/Cell/Membrane:ECa:Value',\n",
    "    'Variable:/Cell/Membrane:ICaL:Value',\n",
    "    'Variable:/Cell/Membrane:ICab:Value',\n",
    "    'Variable:/Cell/Membrane:IK1:Value',\n",
    "    'Variable:/Cell/Membrane:IKr:Value',\n",
    "    'Variable:/Cell/Membrane:IKs:Value',\n",
    "    'Variable:/Cell/Membrane:INa:Value',\n",
    "    'Variable:/Cell/Membrane:INaCa:Value',\n",
    "    'Variable:/Cell/Membrane:INaK:Value',\n",
    "    'Variable:/Cell/Membrane:INab:Value',\n",
    "    'Variable:/Cell/Membrane:If:Value',\n",
    "    'Variable:/Cell/Membrane:Isus:Value',\n",
    "    'Variable:/Cell/Membrane:It:Value',\n",
    "    'Variable:/Cell/Membrane:Its:Value',\n",
    "]"
   ]
  },
  {
   "cell_type": "code",
   "execution_count": 13,
   "metadata": {},
   "outputs": [
    {
     "data": {
      "text/plain": [
       "<matplotlib.legend.Legend at 0x7ff200a4bf90>"
      ]
     },
     "execution_count": 13,
     "metadata": {},
     "output_type": "execute_result"
    },
    {
     "data": {
      "image/png": "[encoded data removed]",
      "text/plain": [
       "<Figure size 432x288 with 1 Axes>"
      ]
     },
     "metadata": {
      "needs_background": "light"
     },
     "output_type": "display_data"
    }
   ],
   "source": [
    "plt.figure()\n",
    "for FullPN, d in Data_dict.items():\n",
    "    if FullPN in FullPNs_for_plot:\n",
    "        plt.plot( d[ :, 0 ], d[ :, 1 ], label = FullPN.split(':')[ 2 ] )\n",
    "\n",
    "plt.legend( loc = 'upper right' )"
   ]
  },
  {
   "cell_type": "code",
   "execution_count": 14,
   "metadata": {},
   "outputs": [
    {
     "name": "stdout",
     "output_type": "stream",
     "text": [
      "Variable:/Cell/Membrane:ECa:Value\n",
      "[[0.00000000e+00 1.22874290e+02]\n",
      " [3.00000000e-03 1.23158022e+02]\n",
      " [6.01000000e-03 1.23223028e+02]\n",
      " ...\n",
      " [2.99100000e+00 1.24886224e+02]\n",
      " [2.99400000e+00 1.24886339e+02]\n",
      " [2.99700000e+00 1.24886449e+02]]\n",
      "Variable:/Cell/Membrane:ICaL:Value\n",
      "[[ 0.         -0.03663114]\n",
      " [ 0.003      -0.03645348]\n",
      " [ 0.00601    -0.03554672]\n",
      " ...\n",
      " [ 2.991      -0.02737506]\n",
      " [ 2.994      -0.02739   ]\n",
      " [ 2.997      -0.02740492]]\n",
      "Variable:/Cell/Membrane:ICab:Value\n",
      "[[ 0.00000000e+00 -1.88680402e+01]\n",
      " [ 3.00000000e-03 -1.56322330e+01]\n",
      " [ 6.01000000e-03 -1.56516615e+01]\n",
      " ...\n",
      " [ 2.99100000e+00 -1.58955704e+01]\n",
      " [ 2.99400000e+00 -1.58953194e+01]\n",
      " [ 2.99700000e+00 -1.58950684e+01]]\n",
      "Variable:/Cell/Membrane:IK1:Value\n",
      "[[0.00000000e+00 2.23587988e+01]\n",
      " [3.00000000e-03 2.20565944e+01]\n",
      " [6.01000000e-03 2.17775962e+01]\n",
      " ...\n",
      " [2.99100000e+00 1.93791218e+01]\n",
      " [2.99400000e+00 1.93850592e+01]\n",
      " [2.99700000e+00 1.93909865e+01]]\n",
      "Variable:/Cell/Membrane:IKr:Value\n",
      "[[0.00000000e+00 1.39953555e-04]\n",
      " [3.00000000e-03 1.37435075e-04]\n",
      " [6.01000000e-03 1.34752360e-04]\n",
      " ...\n",
      " [2.99100000e+00 8.70844087e-05]\n",
      " [2.99400000e+00 8.71670305e-05]\n",
      " [2.99700000e+00 8.72496078e-05]]\n",
      "Variable:/Cell/Membrane:IKs:Value\n",
      "[[0.         0.03913757]\n",
      " [0.003      0.03816876]\n",
      " [0.00601    0.03728451]\n",
      " ...\n",
      " [2.991      0.04306377]\n",
      " [2.994      0.04291386]\n",
      " [2.997      0.04276451]]\n",
      "Variable:/Cell/Membrane:INa:Value\n",
      "[[ 0.00000000e+00 -1.32182962e-03]\n",
      " [ 3.00000000e-03 -1.27733452e-03]\n",
      " [ 6.01000000e-03 -1.19796570e-03]\n",
      " ...\n",
      " [ 2.99100000e+00 -7.39686903e-04]\n",
      " [ 2.99400000e+00 -7.40522371e-04]\n",
      " [ 2.99700000e+00 -7.41357511e-04]]\n",
      "Variable:/Cell/Membrane:INaCa:Value\n",
      "[[ 0.00000000e+00 -7.95738919e+00]\n",
      " [ 3.00000000e-03 -7.80775667e+00]\n",
      " [ 6.01000000e-03 -7.80596656e+00]\n",
      " ...\n",
      " [ 2.99100000e+00 -7.28690154e+00]\n",
      " [ 2.99400000e+00 -7.28669834e+00]\n",
      " [ 2.99700000e+00 -7.28649867e+00]]\n",
      "Variable:/Cell/Membrane:INaK:Value\n",
      "[[0.00000000e+00 1.47677938e+01]\n",
      " [3.00000000e-03 1.47510499e+01]\n",
      " [6.01000000e-03 1.47358227e+01]\n",
      " ...\n",
      " [2.99100000e+00 1.42973017e+01]\n",
      " [2.99400000e+00 1.42968297e+01]\n",
      " [2.99700000e+00 1.42963579e+01]]\n",
      "Variable:/Cell/Membrane:INab:Value\n",
      "[[ 0.00000000e+00 -8.88880680e+00]\n",
      " [ 3.00000000e-03 -8.90109286e+00]\n",
      " [ 6.01000000e-03 -8.91220739e+00]\n",
      " ...\n",
      " [ 2.99100000e+00 -9.03943543e+00]\n",
      " [ 2.99400000e+00 -9.03932713e+00]\n",
      " [ 2.99700000e+00 -9.03921904e+00]]\n",
      "Variable:/Cell/Membrane:If:Value\n",
      "[[ 0.         -1.8151227 ]\n",
      " [ 0.003      -1.83120149]\n",
      " [ 0.00601    -1.84636947]\n",
      " ...\n",
      " [ 2.991      -2.01426706]\n",
      " [ 2.994      -2.02009022]\n",
      " [ 2.997      -2.0258999 ]]\n",
      "Variable:/Cell/Membrane:Isus:Value\n",
      "[[0.         0.00706787]\n",
      " [0.003      0.00692376]\n",
      " [0.00601    0.00675159]\n",
      " ...\n",
      " [2.991      0.00467425]\n",
      " [2.994      0.00467817]\n",
      " [2.997      0.0046821 ]]\n",
      "Variable:/Cell/Membrane:It:Value\n",
      "[[0.         0.07124603]\n",
      " [0.003      0.06964996]\n",
      " [0.00601    0.06727944]\n",
      " ...\n",
      " [2.991      0.04967469]\n",
      " [2.994      0.0497104 ]\n",
      " [2.997      0.04974608]]\n",
      "Variable:/Cell/Membrane:Its:Value\n",
      "[[0.         0.954338  ]\n",
      " [0.003      0.95431739]\n",
      " [0.00601    0.95441619]\n",
      " ...\n",
      " [2.991      0.96036539]\n",
      " [2.994      0.96035438]\n",
      " [2.997      0.96034338]]\n"
     ]
    }
   ],
   "source": [
    "for aFullPN in FullPNs_for_plot:\n",
    "    print( aFullPN )\n",
    "    print( Data_dict[ aFullPN ])"
   ]
  },
  {
   "cell_type": "code",
   "execution_count": 15,
   "metadata": {},
   "outputs": [],
   "source": [
    "FullPNs_for_plot = [ \n",
    "    'Variable:/Cell/Membrane:V:Value',\n",
    "]"
   ]
  },
  {
   "cell_type": "code",
   "execution_count": 16,
   "metadata": {},
   "outputs": [
    {
     "data": {
      "text/plain": [
       "<matplotlib.legend.Legend at 0x7ff211c0ded0>"
      ]
     },
     "execution_count": 16,
     "metadata": {},
     "output_type": "execute_result"
    },
    {
     "data": {
      "image/png": "[encoded data removed]",
      "text/plain": [
       "<Figure size 432x288 with 1 Axes>"
      ]
     },
     "metadata": {
      "needs_background": "light"
     },
     "output_type": "display_data"
    }
   ],
   "source": [
    "plt.figure()\n",
    "for FullPN, d in Data_dict.items():\n",
    "    if FullPN in FullPNs_for_plot:\n",
    "        plt.plot( d[ :, 0 ], d[ :, 1 ], label = FullPN.split(':')[ 2 ] )\n",
    "\n",
    "plt.legend( loc = 'upper right' )"
   ]
  },
  {
   "cell_type": "code",
   "execution_count": 17,
   "metadata": {},
   "outputs": [
    {
     "name": "stdout",
     "output_type": "stream",
     "text": [
      "Variable:/Cell/Membrane:V:Value\n",
      "[[ 0.00000000e+00 -7.53194100e+01]\n",
      " [ 3.00000000e-03 -7.55206048e+01]\n",
      " [ 6.01000000e-03 -7.57025256e+01]\n",
      " ...\n",
      " [ 2.99100000e+00 -7.71393018e+01]\n",
      " [ 2.99400000e+00 -7.71359974e+01]\n",
      " [ 2.99700000e+00 -7.71326976e+01]]\n"
     ]
    }
   ],
   "source": [
    "for aFullPN in FullPNs_for_plot:\n",
    "    print( aFullPN )\n",
    "    print( Data_dict[ aFullPN ])"
   ]
  },
  {
   "cell_type": "code",
   "execution_count": 18,
   "metadata": {},
   "outputs": [],
   "source": [
    "FullPNs_for_plot = [ \n",
    "    'Variable:/Cell/Cytosol/ss:Ca:MolarConc',\n",
    "]"
   ]
  },
  {
   "cell_type": "code",
   "execution_count": 19,
   "metadata": {},
   "outputs": [
    {
     "data": {
      "text/plain": [
       "<matplotlib.legend.Legend at 0x7ff1e1032090>"
      ]
     },
     "execution_count": 19,
     "metadata": {},
     "output_type": "execute_result"
    },
    {
     "data": {
      "image/png": "[encoded data removed]",
      "text/plain": [
       "<Figure size 432x288 with 1 Axes>"
      ]
     },
     "metadata": {
      "needs_background": "light"
     },
     "output_type": "display_data"
    }
   ],
   "source": [
    "plt.figure()\n",
    "for FullPN, d in Data_dict.items():\n",
    "    if FullPN in FullPNs_for_plot:\n",
    "        plt.plot( d[ :, 0 ], d[ :, 1 ], label = FullPN.split(':')[ 2 ] )\n",
    "\n",
    "plt.legend( loc = 'upper right' )"
   ]
  },
  {
   "cell_type": "code",
   "execution_count": 20,
   "metadata": {},
   "outputs": [
    {
     "name": "stdout",
     "output_type": "stream",
     "text": [
      "Variable:/Cell/Cytosol/ss:Ca:MolarConc\n",
      "[[0.00000000e+00 1.62000000e-07]\n",
      " [3.00000000e-03 1.58552413e-07]\n",
      " [6.01000000e-03 1.57772924e-07]\n",
      " ...\n",
      " [2.99100000e+00 1.39081731e-07]\n",
      " [2.99400000e+00 1.39080523e-07]\n",
      " [2.99700000e+00 1.39079364e-07]]\n"
     ]
    }
   ],
   "source": [
    "for aFullPN in FullPNs_for_plot:\n",
    "    print( aFullPN )\n",
    "    print( Data_dict[ aFullPN ])"
   ]
  },
  {
   "cell_type": "code",
   "execution_count": 21,
   "metadata": {},
   "outputs": [],
   "source": [
    "FullPNs_INa = [ \n",
    "    'Variable:/Cell/Membrane:INa:Value',\n",
    "    'Variable:/Cell/Membrane:INam:Value',\n",
    "    'Variable:/Cell/Membrane:INah1:Value',\n",
    "    'Variable:/Cell/Membrane:INah2:Value',\n",
    "    'Variable:/Cell/Membrane:INamtau:Value',\n",
    "    'Variable:/Cell/Membrane:INah1tau:Value',\n",
    "    'Variable:/Cell/Membrane:INah2tau:Value',\n",
    "    'Variable:/Cell/Membrane:INaminf:Value',\n",
    "    'Variable:/Cell/Membrane:INahinf:Value',\n",
    "]"
   ]
  },
  {
   "cell_type": "code",
   "execution_count": 22,
   "metadata": {},
   "outputs": [
    {
     "name": "stdout",
     "output_type": "stream",
     "text": [
      "Variable:/Cell/Membrane:INa:Value\n",
      "[[ 0.00000000e+00 -1.32182962e-03]\n",
      " [ 3.00000000e-03 -1.27733452e-03]\n",
      " [ 6.01000000e-03 -1.19796570e-03]\n",
      " ...\n",
      " [ 2.99100000e+00 -7.39686903e-04]\n",
      " [ 2.99400000e+00 -7.40522371e-04]\n",
      " [ 2.99700000e+00 -7.41357511e-04]]\n",
      "Variable:/Cell/Membrane:INam:Value\n",
      "[[0.00000000e+00 2.77900000e-03]\n",
      " [3.00000000e-03 2.74550149e-03]\n",
      " [6.01000000e-03 2.68541456e-03]\n",
      " ...\n",
      " [2.99100000e+00 2.25468047e-03]\n",
      " [2.99400000e+00 2.25558609e-03]\n",
      " [2.99700000e+00 2.25649083e-03]]\n",
      "Variable:/Cell/Membrane:INah1:Value\n",
      "[[0.         0.90391   ]\n",
      " [0.003      0.9038198 ]\n",
      " [0.00601    0.90403394]\n",
      " ...\n",
      " [2.991      0.92830567]\n",
      " [2.994      0.92826365]\n",
      " [2.997      0.92822165]]\n",
      "Variable:/Cell/Membrane:INah2:Value\n",
      "[[0.         0.903967  ]\n",
      " [0.003      0.90394207]\n",
      " [0.00601    0.90399341]\n",
      " ...\n",
      " [2.991      0.92754808]\n",
      " [2.994      0.9275556 ]\n",
      " [2.997      0.92756193]]\n",
      "Variable:/Cell/Membrane:INamtau:Value\n",
      "[[0.00000000e+00 2.61248986e-05]\n",
      " [3.00000000e-03 2.60741266e-05]\n",
      " [6.01000000e-03 2.60290931e-05]\n",
      " ...\n",
      " [2.99100000e+00 2.57013440e-05]\n",
      " [2.99400000e+00 2.57020432e-05]\n",
      " [2.99700000e+00 2.57027417e-05]]\n",
      "Variable:/Cell/Membrane:INah1tau:Value\n",
      "[[0.         0.0302999 ]\n",
      " [0.003      0.0302999 ]\n",
      " [0.00601    0.03029991]\n",
      " ...\n",
      " [2.991      0.03029994]\n",
      " [2.994      0.03029994]\n",
      " [2.997      0.03029994]]\n",
      "Variable:/Cell/Membrane:INah2tau:Value\n",
      "[[0.         0.12299958]\n",
      " [0.003      0.12299961]\n",
      " [0.00601    0.12299963]\n",
      " ...\n",
      " [2.991      0.12299976]\n",
      " [2.994      0.12299976]\n",
      " [2.997      0.12299976]]\n",
      "Variable:/Cell/Membrane:INaminf:Value\n",
      "[[0.00000000e+00 2.81263393e-03]\n",
      " [3.00000000e-03 2.74473194e-03]\n",
      " [6.01000000e-03 2.68474331e-03]\n",
      " ...\n",
      " [2.99100000e+00 2.25469125e-03]\n",
      " [2.99400000e+00 2.25559687e-03]\n",
      " [2.99700000e+00 2.25650160e-03]]\n",
      "Variable:/Cell/Membrane:INahinf:Value\n",
      "[[0.         0.90125162]\n",
      " [0.003      0.90457898]\n",
      " [0.00601    0.90750088]\n",
      " ...\n",
      " [2.991      0.92788095]\n",
      " [2.994      0.92783922]\n",
      " [2.997      0.92779752]]\n"
     ]
    }
   ],
   "source": [
    "for aFullPN in FullPNs_INa:\n",
    "    print( aFullPN )\n",
    "    print( Data_dict[ aFullPN ])"
   ]
  }
 ],
 "metadata": {
  "kernelspec": {
   "display_name": "Python 2",
   "language": "python",
   "name": "python2"
  },
  "language_info": {
   "codemirror_mode": {
    "name": "ipython",
    "version": 2
   },
   "file_extension": ".py",
   "mimetype": "text/x-python",
   "name": "python",
   "nbconvert_exporter": "python",
   "pygments_lexer": "ipython2",
   "version": "2.7.16"
  }
 },
 "nbformat": 4,
 "nbformat_minor": 2
}
