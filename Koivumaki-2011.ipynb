{
 "cells": [
  {
   "cell_type": "code",
   "execution_count": 1,
   "metadata": {},
   "outputs": [],
   "source": [
    "import biosim_course"
   ]
  },
  {
   "cell_type": "code",
   "execution_count": 2,
   "metadata": {},
   "outputs": [],
   "source": [
    "import numpy as np"
   ]
  },
  {
   "cell_type": "code",
   "execution_count": 3,
   "metadata": {},
   "outputs": [],
   "source": [
    "%matplotlib inline\n",
    "import matplotlib.pyplot as plt"
   ]
  },
  {
   "cell_type": "code",
   "execution_count": 4,
   "metadata": {},
   "outputs": [
    {
     "name": "stdout",
     "output_type": "stream",
     "text": [
      "t = 0.0\n"
     ]
    }
   ],
   "source": [
    "loadModel(\"Koivumaki-2011_pp.em\")\n",
    "\n",
    "print 't = {}'.format( getCurrentTime() )"
   ]
  },
  {
   "cell_type": "code",
   "execution_count": 5,
   "metadata": {},
   "outputs": [
    {
     "name": "stdout",
     "output_type": "stream",
     "text": [
      "Variable:/:Cao\n",
      "Variable:/:Ko\n",
      "Variable:/:Nao\n",
      "Variable:/:SIZE\n",
      "Variable:/:t\n",
      "\n",
      "Variable:/Cell:SIZE\n",
      "\n",
      "Variable:/Cell/Cytosol:K_i\n",
      "Variable:/Cell/Cytosol:SIZE\n",
      "\n",
      "Variable:/Cell/Membrane:ECa\n",
      "Variable:/Cell/Membrane:EK\n",
      "Variable:/Cell/Membrane:ENa\n",
      "Variable:/Cell/Membrane:ICaL\n",
      "Variable:/Cell/Membrane:ICaLd\n",
      "Variable:/Cell/Membrane:ICaLdinf\n",
      "Variable:/Cell/Membrane:ICaLdtau\n",
      "Variable:/Cell/Membrane:ICaLf1\n",
      "Variable:/Cell/Membrane:ICaLf1tau\n",
      "Variable:/Cell/Membrane:ICaLf2\n",
      "Variable:/Cell/Membrane:ICaLf2tau\n",
      "Variable:/Cell/Membrane:ICaLfca\n",
      "Variable:/Cell/Membrane:ICaLfcainf\n",
      "Variable:/Cell/Membrane:ICaLfcatau\n",
      "Variable:/Cell/Membrane:ICaLfinf\n",
      "Variable:/Cell/Membrane:ICaP\n",
      "Variable:/Cell/Membrane:ICab\n",
      "Variable:/Cell/Membrane:IK1\n",
      "Variable:/Cell/Membrane:IKr\n",
      "Variable:/Cell/Membrane:IKrpa\n",
      "Variable:/Cell/Membrane:IKrpainf\n",
      "Variable:/Cell/Membrane:IKrpatau\n",
      "Variable:/Cell/Membrane:IKrpi\n",
      "Variable:/Cell/Membrane:IKs\n",
      "Variable:/Cell/Membrane:IKsn\n",
      "Variable:/Cell/Membrane:IKsninf\n",
      "Variable:/Cell/Membrane:IKsntau\n",
      "Variable:/Cell/Membrane:INa\n",
      "Variable:/Cell/Membrane:INaCa\n",
      "Variable:/Cell/Membrane:INaK\n",
      "Variable:/Cell/Membrane:INab\n",
      "Variable:/Cell/Membrane:INah1\n",
      "Variable:/Cell/Membrane:INah1tau\n",
      "Variable:/Cell/Membrane:INah2\n",
      "Variable:/Cell/Membrane:INah2tau\n",
      "Variable:/Cell/Membrane:INahinf\n",
      "Variable:/Cell/Membrane:INam\n",
      "Variable:/Cell/Membrane:INaminf\n",
      "Variable:/Cell/Membrane:INamtau\n",
      "Variable:/Cell/Membrane:If\n",
      "Variable:/Cell/Membrane:IfK\n",
      "Variable:/Cell/Membrane:IfNa\n",
      "Variable:/Cell/Membrane:Ify\n",
      "Variable:/Cell/Membrane:Ifyinf\n",
      "Variable:/Cell/Membrane:Ifytau\n",
      "Variable:/Cell/Membrane:Isus\n",
      "Variable:/Cell/Membrane:Isusr\n",
      "Variable:/Cell/Membrane:Isusrinf\n",
      "Variable:/Cell/Membrane:Isusrtau\n",
      "Variable:/Cell/Membrane:Isuss\n",
      "Variable:/Cell/Membrane:Isussinf\n",
      "Variable:/Cell/Membrane:Isusstau\n",
      "Variable:/Cell/Membrane:It\n",
      "Variable:/Cell/Membrane:Itr\n",
      "Variable:/Cell/Membrane:Itrinf\n",
      "Variable:/Cell/Membrane:Itrtau\n",
      "Variable:/Cell/Membrane:Its\n",
      "Variable:/Cell/Membrane:Itsinf\n",
      "Variable:/Cell/Membrane:Itstau\n",
      "Variable:/Cell/Membrane:SIZE\n",
      "Variable:/Cell/Membrane:V\n",
      "Variable:/Cell/Membrane:ist\n",
      "\n",
      "Variable:/Cell/SR_1:Ca\n",
      "Variable:/Cell/SR_1:Ca_buffer\n",
      "Variable:/Cell/SR_1:SIZE\n",
      "\n",
      "Variable:/Cell/SR_2:Ca\n",
      "Variable:/Cell/SR_2:Ca_buffer\n",
      "Variable:/Cell/SR_2:SIZE\n",
      "\n",
      "Variable:/Cell/SR_3:Ca\n",
      "Variable:/Cell/SR_3:Ca_buffer\n",
      "Variable:/Cell/SR_3:SIZE\n",
      "\n",
      "Variable:/Cell/SR_4:Ca\n",
      "Variable:/Cell/SR_4:Ca_buffer\n",
      "Variable:/Cell/SR_4:SIZE\n",
      "\n",
      "Variable:/Cell/Cytosol/bulk:Na_i\n",
      "Variable:/Cell/Cytosol/bulk:SIZE\n",
      "\n",
      "Variable:/Cell/Cytosol/bulk_1:Ca\n",
      "Variable:/Cell/Cytosol/bulk_1:Ca_buffer\n",
      "Variable:/Cell/Cytosol/bulk_1:JSRCaleak\n",
      "Variable:/Cell/Cytosol/bulk_1:J_SERCASR\n",
      "Variable:/Cell/Cytosol/bulk_1:J_bulkSERCA\n",
      "Variable:/Cell/Cytosol/bulk_1:Jrel\n",
      "Variable:/Cell/Cytosol/bulk_1:RyRa\n",
      "Variable:/Cell/Cytosol/bulk_1:RyRainf\n",
      "Variable:/Cell/Cytosol/bulk_1:RyRc\n",
      "Variable:/Cell/Cytosol/bulk_1:RyRcinf\n",
      "Variable:/Cell/Cytosol/bulk_1:RyRo\n",
      "Variable:/Cell/Cytosol/bulk_1:RyRoinf\n",
      "Variable:/Cell/Cytosol/bulk_1:RyRtauact\n",
      "Variable:/Cell/Cytosol/bulk_1:RyRtauadapt\n",
      "Variable:/Cell/Cytosol/bulk_1:RyRtauinact\n",
      "Variable:/Cell/Cytosol/bulk_1:SERCACa\n",
      "Variable:/Cell/Cytosol/bulk_1:SIZE\n",
      "\n",
      "Variable:/Cell/Cytosol/bulk_2:Ca\n",
      "Variable:/Cell/Cytosol/bulk_2:Ca_buffer\n",
      "Variable:/Cell/Cytosol/bulk_2:JSRCaleak\n",
      "Variable:/Cell/Cytosol/bulk_2:J_SERCASR\n",
      "Variable:/Cell/Cytosol/bulk_2:J_bulkSERCA\n",
      "Variable:/Cell/Cytosol/bulk_2:Jrel\n",
      "Variable:/Cell/Cytosol/bulk_2:RyRa\n",
      "Variable:/Cell/Cytosol/bulk_2:RyRainf\n",
      "Variable:/Cell/Cytosol/bulk_2:RyRc\n",
      "Variable:/Cell/Cytosol/bulk_2:RyRcinf\n",
      "Variable:/Cell/Cytosol/bulk_2:RyRo\n",
      "Variable:/Cell/Cytosol/bulk_2:RyRoinf\n",
      "Variable:/Cell/Cytosol/bulk_2:RyRtauact\n",
      "Variable:/Cell/Cytosol/bulk_2:RyRtauadapt\n",
      "Variable:/Cell/Cytosol/bulk_2:RyRtauinact\n",
      "Variable:/Cell/Cytosol/bulk_2:SERCACa\n",
      "Variable:/Cell/Cytosol/bulk_2:SIZE\n",
      "\n",
      "Variable:/Cell/Cytosol/bulk_3:Ca\n",
      "Variable:/Cell/Cytosol/bulk_3:Ca_buffer\n",
      "Variable:/Cell/Cytosol/bulk_3:JSRCaleak\n",
      "Variable:/Cell/Cytosol/bulk_3:J_SERCASR\n",
      "Variable:/Cell/Cytosol/bulk_3:J_bulkSERCA\n",
      "Variable:/Cell/Cytosol/bulk_3:Jrel\n",
      "Variable:/Cell/Cytosol/bulk_3:RyRa\n",
      "Variable:/Cell/Cytosol/bulk_3:RyRainf\n",
      "Variable:/Cell/Cytosol/bulk_3:RyRc\n",
      "Variable:/Cell/Cytosol/bulk_3:RyRcinf\n",
      "Variable:/Cell/Cytosol/bulk_3:RyRo\n",
      "Variable:/Cell/Cytosol/bulk_3:RyRoinf\n",
      "Variable:/Cell/Cytosol/bulk_3:RyRtauact\n",
      "Variable:/Cell/Cytosol/bulk_3:RyRtauadapt\n",
      "Variable:/Cell/Cytosol/bulk_3:RyRtauinact\n",
      "Variable:/Cell/Cytosol/bulk_3:SERCACa\n",
      "Variable:/Cell/Cytosol/bulk_3:SIZE\n",
      "\n",
      "Variable:/Cell/Cytosol/bulk_4:Ca\n",
      "Variable:/Cell/Cytosol/bulk_4:Ca_buffer\n",
      "Variable:/Cell/Cytosol/bulk_4:SIZE\n",
      "\n",
      "Variable:/Cell/Cytosol/ss:Ca\n",
      "Variable:/Cell/Cytosol/ss:Ca_buffer\n",
      "Variable:/Cell/Cytosol/ss:JSRCaleak\n",
      "Variable:/Cell/Cytosol/ss:J_SERCASR\n",
      "Variable:/Cell/Cytosol/ss:J_bulkSERCA\n",
      "Variable:/Cell/Cytosol/ss:Jrel\n",
      "Variable:/Cell/Cytosol/ss:Na\n",
      "Variable:/Cell/Cytosol/ss:Na_buffer\n",
      "Variable:/Cell/Cytosol/ss:RyRa\n",
      "Variable:/Cell/Cytosol/ss:RyRainf\n",
      "Variable:/Cell/Cytosol/ss:RyRc\n",
      "Variable:/Cell/Cytosol/ss:RyRcinf\n",
      "Variable:/Cell/Cytosol/ss:RyRo\n",
      "Variable:/Cell/Cytosol/ss:RyRoinf\n",
      "Variable:/Cell/Cytosol/ss:RyRtauact\n",
      "Variable:/Cell/Cytosol/ss:RyRtauadapt\n",
      "Variable:/Cell/Cytosol/ss:RyRtauinact\n",
      "Variable:/Cell/Cytosol/ss:SERCACa\n",
      "Variable:/Cell/Cytosol/ss:SIZE\n",
      "\n",
      "Process:/:t\n",
      "\n",
      "\n",
      "\n",
      "Process:/Cell/Membrane:ECa\n",
      "Process:/Cell/Membrane:EK\n",
      "Process:/Cell/Membrane:ENa\n",
      "Process:/Cell/Membrane:ICaL\n",
      "Process:/Cell/Membrane:ICaP\n",
      "Process:/Cell/Membrane:ICab\n",
      "Process:/Cell/Membrane:IK1\n",
      "Process:/Cell/Membrane:IKr\n",
      "Process:/Cell/Membrane:IKs\n",
      "Process:/Cell/Membrane:INa\n",
      "Process:/Cell/Membrane:INaCa\n",
      "Process:/Cell/Membrane:INaK\n",
      "Process:/Cell/Membrane:INab\n",
      "Process:/Cell/Membrane:If\n",
      "Process:/Cell/Membrane:Isus\n",
      "Process:/Cell/Membrane:It\n",
      "Process:/Cell/Membrane:JCa_INaCa\n",
      "Process:/Cell/Membrane:JCa_mem\n",
      "Process:/Cell/Membrane:JK_INaK\n",
      "Process:/Cell/Membrane:JK_mem\n",
      "Process:/Cell/Membrane:JNa_mem\n",
      "Process:/Cell/Membrane:dICaLd_dt\n",
      "Process:/Cell/Membrane:dICaLf1_dt\n",
      "Process:/Cell/Membrane:dICaLf2_dt\n",
      "Process:/Cell/Membrane:dICaLfca_dt\n",
      "Process:/Cell/Membrane:dIKrpa_dt\n",
      "Process:/Cell/Membrane:dIKsn_dt\n",
      "Process:/Cell/Membrane:dINah1_dt\n",
      "Process:/Cell/Membrane:dINah2_dt\n",
      "Process:/Cell/Membrane:dINam_dt\n",
      "Process:/Cell/Membrane:dIfy_dt\n",
      "Process:/Cell/Membrane:dIsusr_dt\n",
      "Process:/Cell/Membrane:dIsuss_dt\n",
      "Process:/Cell/Membrane:dItr_dt\n",
      "Process:/Cell/Membrane:dIts_dt\n",
      "Process:/Cell/Membrane:dV_dt\n",
      "Process:/Cell/Membrane:ist\n",
      "\n",
      "Process:/Cell/SR_1:Ca_buffer\n",
      "Process:/Cell/SR_1:Ca_diff\n",
      "\n",
      "Process:/Cell/SR_2:Ca_buffer\n",
      "Process:/Cell/SR_2:Ca_diff\n",
      "\n",
      "Process:/Cell/SR_3:Ca_buffer\n",
      "Process:/Cell/SR_3:Ca_diff\n",
      "\n",
      "Process:/Cell/SR_4:Ca_buffer\n",
      "Process:/Cell/SR_4:Ca_diff\n",
      "\n",
      "Process:/Cell/Cytosol/bulk:JNa_assign\n",
      "\n",
      "Process:/Cell/Cytosol/bulk_1:Ca_buffer\n",
      "Process:/Cell/Cytosol/bulk_1:Ca_diff\n",
      "Process:/Cell/Cytosol/bulk_1:JSRCaleak\n",
      "Process:/Cell/Cytosol/bulk_1:JSRCaleak_assign\n",
      "Process:/Cell/Cytosol/bulk_1:J_SERCA\n",
      "Process:/Cell/Cytosol/bulk_1:J_SERCASR\n",
      "Process:/Cell/Cytosol/bulk_1:J_bulkSERCA\n",
      "Process:/Cell/Cytosol/bulk_1:Jrel\n",
      "Process:/Cell/Cytosol/bulk_1:Jrel_assign\n",
      "Process:/Cell/Cytosol/bulk_1:dRyRa_dt\n",
      "Process:/Cell/Cytosol/bulk_1:dRyRc_dt\n",
      "Process:/Cell/Cytosol/bulk_1:dRyRo_dt\n",
      "\n",
      "Process:/Cell/Cytosol/bulk_2:Ca_buffer\n",
      "Process:/Cell/Cytosol/bulk_2:Ca_diff\n",
      "Process:/Cell/Cytosol/bulk_2:JSRCaleak\n",
      "Process:/Cell/Cytosol/bulk_2:JSRCaleak_assign\n",
      "Process:/Cell/Cytosol/bulk_2:J_SERCA\n",
      "Process:/Cell/Cytosol/bulk_2:J_SERCASR\n",
      "Process:/Cell/Cytosol/bulk_2:J_bulkSERCA\n",
      "Process:/Cell/Cytosol/bulk_2:Jrel\n",
      "Process:/Cell/Cytosol/bulk_2:Jrel_assign\n",
      "Process:/Cell/Cytosol/bulk_2:dRyRa_dt\n",
      "Process:/Cell/Cytosol/bulk_2:dRyRc_dt\n",
      "Process:/Cell/Cytosol/bulk_2:dRyRo_dt\n",
      "\n",
      "Process:/Cell/Cytosol/bulk_3:Ca_buffer\n",
      "Process:/Cell/Cytosol/bulk_3:Ca_diff\n",
      "Process:/Cell/Cytosol/bulk_3:JSRCaleak\n",
      "Process:/Cell/Cytosol/bulk_3:JSRCaleak_assign\n",
      "Process:/Cell/Cytosol/bulk_3:J_SERCA\n",
      "Process:/Cell/Cytosol/bulk_3:J_SERCASR\n",
      "Process:/Cell/Cytosol/bulk_3:J_bulkSERCA\n",
      "Process:/Cell/Cytosol/bulk_3:Jrel\n",
      "Process:/Cell/Cytosol/bulk_3:Jrel_assign\n",
      "Process:/Cell/Cytosol/bulk_3:dRyRa_dt\n",
      "Process:/Cell/Cytosol/bulk_3:dRyRc_dt\n",
      "Process:/Cell/Cytosol/bulk_3:dRyRo_dt\n",
      "\n",
      "Process:/Cell/Cytosol/bulk_4:Ca_buffer\n",
      "Process:/Cell/Cytosol/bulk_4:Ca_diff\n",
      "\n",
      "Process:/Cell/Cytosol/ss:Ca_buffer\n",
      "Process:/Cell/Cytosol/ss:JSRCaleak\n",
      "Process:/Cell/Cytosol/ss:JSRCaleak_assign\n",
      "Process:/Cell/Cytosol/ss:J_SERCA\n",
      "Process:/Cell/Cytosol/ss:J_SERCASR\n",
      "Process:/Cell/Cytosol/ss:J_bulkSERCA\n",
      "Process:/Cell/Cytosol/ss:Jj_nj\n",
      "Process:/Cell/Cytosol/ss:Jrel\n",
      "Process:/Cell/Cytosol/ss:Jrel_assign\n",
      "Process:/Cell/Cytosol/ss:Na_buffer\n",
      "Process:/Cell/Cytosol/ss:dRyRa_dt\n",
      "Process:/Cell/Cytosol/ss:dRyRc_dt\n",
      "Process:/Cell/Cytosol/ss:dRyRo_dt\n",
      "\n"
     ]
    }
   ],
   "source": [
    "# SystemPath_list = ( '/Cell/Membrane', '/Cell/Cytosol', '/Cell/Cytosol/ss', )\n",
    "\n",
    "SystemPath_list = []\n",
    "new_children = ['/']\n",
    "\n",
    "while len( new_children ):\n",
    "    SystemPath_list.extend(new_children)\n",
    "    parents = new_children\n",
    "    new_children =[]\n",
    "    for S in parents:\n",
    "        if S == '/':\n",
    "            new_children.extend( [ '/{}'.format( c ) for c in getEntityList( 'System', S )]) \n",
    "        else:\n",
    "            new_children.extend( [ '{}/{}'.format( S, c ) for c in getEntityList( 'System', S )]) \n",
    "\n",
    "for an_E_type in ( 'Variable', 'Process' ):\n",
    "    for a_SystemPath in SystemPath_list:\n",
    "        for E in getEntityList( an_E_type, a_SystemPath ):\n",
    "            print( ':'.join( ( an_E_type, a_SystemPath, E )))\n",
    "        print(\"\")"
   ]
  },
  {
   "cell_type": "code",
   "execution_count": 6,
   "metadata": {},
   "outputs": [],
   "source": [
    "Stub_dict = {}\n",
    "\n",
    "for a_SystemPath in SystemPath_list:\n",
    "    for E_type in ('Variable', 'Process'):\n",
    "        for E in getEntityList( E_type, a_SystemPath ):\n",
    "                FullID = ':'.join( ( E_type, a_SystemPath, E ) )\n",
    "                Stub_dict[ FullID ] = createEntityStub( FullID )\n",
    "\n",
    "def get_FullPN_value( a_FullPN ):\n",
    "    a_FullPN_list = a_FullPN.split(':')\n",
    "    a_FullID = ':'.join(a_FullPN_list[:3])\n",
    "    return Stub_dict[ a_FullID ][ a_FullPN_list[3] ]\n",
    "\n"
   ]
  },
  {
   "cell_type": "code",
   "execution_count": 7,
   "metadata": {},
   "outputs": [
    {
     "name": "stdout",
     "output_type": "stream",
     "text": [
      "Variable:/Cell/SR_4:Ca\n",
      "11472487.4464\n",
      " \n",
      "Process:/Cell/Cytosol/bulk_2:Ca_buffer\n",
      "0.0\n",
      " \n",
      "Variable:/Cell/SR_3:Ca_buffer\n",
      "0.0\n",
      " \n",
      "Variable:/Cell/SR_3:Ca\n",
      "2672757.92027\n",
      " \n",
      "Process:/Cell/Cytosol/bulk_3:Ca_buffer\n",
      "0.0\n",
      " \n",
      "Variable:/Cell/Cytosol/bulk_1:Ca_buffer\n",
      "0.0\n",
      " \n",
      "Variable:/Cell/Cytosol/bulk_4:Ca_buffer\n",
      "0.0\n",
      " \n",
      "Process:/Cell/Cytosol/ss:Na_buffer\n",
      "0.0\n",
      " \n",
      "Variable:/Cell/SR_2:Ca_buffer\n",
      "0.0\n",
      " \n",
      "Variable:/Cell/SR_2:Ca\n",
      "-1380895.65936\n",
      " \n",
      "Variable:/Cell/Cytosol/bulk_1:Ca\n",
      "50365.7672113\n",
      " \n",
      "Variable:/Cell/SR_4:Ca_buffer\n",
      "0.0\n",
      " \n",
      "Variable:/Cell/Cytosol/bulk_4:Ca\n",
      "31818.6291449\n",
      " \n",
      "Process:/Cell/SR_3:Ca_buffer\n",
      "0.0\n",
      " \n",
      "Variable:/Cell/Cytosol/bulk_2:Ca_buffer\n",
      "0.0\n",
      " \n",
      "Variable:/Cell/SR_1:Ca\n",
      "-989553.808457\n",
      " \n",
      "Process:/Cell/Cytosol/ss:Ca_buffer\n",
      "0.0\n",
      " \n",
      "Variable:/Cell/Cytosol/bulk_3:Ca\n",
      "-75044.2334034\n",
      " \n",
      "Process:/Cell/SR_2:Ca_buffer\n",
      "0.0\n",
      " \n",
      "Process:/Cell/SR_4:Ca_buffer\n",
      "0.0\n",
      " \n",
      "Variable:/Cell/Cytosol/bulk_2:Ca\n",
      "-201310.032057\n",
      " \n",
      "Process:/Cell/Cytosol/bulk_1:Ca_buffer\n",
      "0.0\n",
      " \n",
      "Process:/Cell/Cytosol/bulk_4:Ca_buffer\n",
      "0.0\n",
      " \n",
      "Variable:/Cell/Cytosol/ss:Na_buffer\n",
      "0.0\n",
      " \n",
      "Variable:/Cell/Cytosol/ss:Ca\n",
      "-531828.188362\n",
      " \n",
      "Variable:/Cell/Cytosol/ss:Na\n",
      "-58257272.0143\n",
      " \n",
      "Process:/Cell/SR_1:Ca_buffer\n",
      "0.0\n",
      " \n",
      "Variable:/Cell/Cytosol/bulk_3:Ca_buffer\n",
      "0.0\n",
      " \n",
      "Variable:/Cell/Cytosol/ss:Ca_buffer\n",
      "0.0\n",
      " \n",
      "Variable:/Cell/SR_1:Ca_buffer\n",
      "0.0\n",
      " \n"
     ]
    }
   ],
   "source": [
    "for a_FullID, stub in Stub_dict.items():\n",
    "    FullID_list = a_FullID.split(':')\n",
    "    if FullID_list[0] == 'Variable' and FullID_list[-1] in ['Na', 'Na_buffer', 'Ca', 'Ca_buffer'] :\n",
    "        print( a_FullID )\n",
    "        print( stub['Velocity'] )\n",
    "        print( ' ' )\n",
    "        # print('{}: {}',format( a_FullID, stub['Velocity']))\n",
    "    elif FullID_list[0] == 'Process' and FullID_list[-1] in ['Na_buffer', 'Ca_buffer'] :\n",
    "        print( a_FullID )\n",
    "        print( stub['Activity'] )\n",
    "        print( ' ' )\n"
   ]
  },
  {
   "cell_type": "code",
   "execution_count": 8,
   "metadata": {},
   "outputs": [],
   "source": [
    "Target_Properties = dict(\n",
    "    Variable = ['Value', 'MolarConc', 'Velocity'], \n",
    "    Process  = ['Activity'],)\n",
    "Logger_dict = {}\n",
    "\n",
    "for a_SystemPath in SystemPath_list:\n",
    "    for E_type, Properties in Target_Properties.items():\n",
    "        for E in getEntityList( E_type, a_SystemPath ):\n",
    "            for p in Properties:\n",
    "                FullPN = ':'.join( ( E_type, a_SystemPath, E, p ) )\n",
    "                Logger_dict[ FullPN ] = createLoggerStub( FullPN )\n",
    "                Logger_dict[ FullPN ].create()\n",
    "\n"
   ]
  },
  {
   "cell_type": "code",
   "execution_count": 9,
   "metadata": {},
   "outputs": [],
   "source": [
    "t0 = dict( t = getCurrentTime() )\n",
    "\n",
    "for a_FullID, a_Stub in Stub_dict.items():\n",
    "    if a_FullID.split(':')[0] == 'Variable':\n",
    "        t0[ a_FullID + ':Value' ] = a_Stub['Value']\n",
    "        t0[ a_FullID + ':MolarConc' ] = a_Stub['MolarConc']        "
   ]
  },
  {
   "cell_type": "code",
   "execution_count": 10,
   "metadata": {},
   "outputs": [
    {
     "name": "stdout",
     "output_type": "stream",
     "text": [
      "t = 3.0\n"
     ]
    }
   ],
   "source": [
    "# step_width = 1.0e-2  # sec\n",
    "step_width = 3.0  # sec\n",
    "\n",
    "run( step_width )\n",
    "print 't = {}'.format( getCurrentTime() )"
   ]
  },
  {
   "cell_type": "code",
   "execution_count": 11,
   "metadata": {},
   "outputs": [],
   "source": [
    "Data_dict = {}\n",
    "for FullPN, Logger in Logger_dict.items():\n",
    "    #Data_dict[ FullPN ] = np.array( Logger.getData( 0, 0.0005 ) )[ :, :2 ]\n",
    "    Data_dict[ FullPN ] = np.array( Logger.getData( 0, getCurrentTime(), getCurrentTime()/1000.0 ) )[ :, :2 ]"
   ]
  },
  {
   "cell_type": "code",
   "execution_count": 30,
   "metadata": {},
   "outputs": [],
   "source": [
    "FullPNs_for_plot = [ \n",
    "    'Variable:/Cell/Membrane:ECa:Value',\n",
    "    'Variable:/Cell/Membrane:ICaL:Value',\n",
    "    'Variable:/Cell/Membrane:ICab:Value',\n",
    "    'Variable:/Cell/Membrane:IK1:Value',\n",
    "    'Variable:/Cell/Membrane:IKr:Value',\n",
    "    'Variable:/Cell/Membrane:IKs:Value',\n",
    "    # 'Variable:/Cell/Membrane:INa:Value',\n",
    "    'Variable:/Cell/Membrane:INaCa:Value',\n",
    "    'Variable:/Cell/Membrane:INaK:Value',\n",
    "    'Variable:/Cell/Membrane:INab:Value',\n",
    "    'Variable:/Cell/Membrane:If:Value',\n",
    "    'Variable:/Cell/Membrane:Isus:Value',\n",
    "    'Variable:/Cell/Membrane:It:Value',\n",
    "    'Variable:/Cell/Membrane:Its:Value',\n",
    "]"
   ]
  },
  {
   "cell_type": "code",
   "execution_count": 31,
   "metadata": {},
   "outputs": [
    {
     "data": {
      "text/plain": [
       "<matplotlib.legend.Legend at 0x7fbc99c83c50>"
      ]
     },
     "execution_count": 31,
     "metadata": {},
     "output_type": "execute_result"
    },
    {
     "data": {
      "image/png": "[encoded data removed]",
      "text/plain": [
       "<Figure size 432x288 with 1 Axes>"
      ]
     },
     "metadata": {
      "needs_background": "light"
     },
     "output_type": "display_data"
    }
   ],
   "source": [
    "plt.figure()\n",
    "for FullPN, d in Data_dict.items():\n",
    "    if FullPN in FullPNs_for_plot:\n",
    "        plt.plot( d[ :, 0 ], d[ :, 1 ], label = FullPN.split(':')[ 2 ] )\n",
    "\n",
    "plt.legend( loc = 'upper right' )"
   ]
  },
  {
   "cell_type": "code",
   "execution_count": 14,
   "metadata": {},
   "outputs": [
    {
     "name": "stdout",
     "output_type": "stream",
     "text": [
      "Variable:/Cell/Membrane:ECa:Value\n",
      "[[0.00000000e+00 1.22874290e+02]\n",
      " [3.00000000e-03 1.23111484e+02]\n",
      " [6.01000000e-03 1.23157941e+02]\n",
      " ...\n",
      " [2.99100000e+00 1.25627451e+02]\n",
      " [2.99400000e+00 1.25628693e+02]\n",
      " [2.99700000e+00 1.25629919e+02]]\n",
      "Variable:/Cell/Membrane:ICaL:Value\n",
      "[[ 0.         -0.03663114]\n",
      " [ 0.003      -0.03645594]\n",
      " [ 0.00601    -0.0355599 ]\n",
      " ...\n",
      " [ 2.991      -0.0343906 ]\n",
      " [ 2.994      -0.03441656]\n",
      " [ 2.997      -0.03444247]]\n",
      "Variable:/Cell/Membrane:ICab:Value\n",
      "[[ 0.00000000e+00 -1.88680402e+01]\n",
      " [ 3.00000000e-03 -1.56284607e+01]\n",
      " [ 6.01000000e-03 -1.56461869e+01]\n",
      " ...\n",
      " [ 2.99100000e+00 -1.58448801e+01]\n",
      " [ 2.99400000e+00 -1.58446182e+01]\n",
      " [ 2.99700000e+00 -1.58443559e+01]]\n",
      "Variable:/Cell/Membrane:IK1:Value\n",
      "[[0.00000000e+00 2.23587988e+01]\n",
      " [3.00000000e-03 2.20587315e+01]\n",
      " [6.01000000e-03 2.17845520e+01]\n",
      " ...\n",
      " [2.99100000e+00 2.16951842e+01]\n",
      " [2.99400000e+00 2.17023048e+01]\n",
      " [2.99700000e+00 2.17094053e+01]]\n",
      "Variable:/Cell/Membrane:IKr:Value\n",
      "[[0.00000000e+00 1.39953555e-04]\n",
      " [3.00000000e-03 1.37454475e-04]\n",
      " [6.01000000e-03 1.34817739e-04]\n",
      " ...\n",
      " [2.99100000e+00 1.26952045e-04]\n",
      " [2.99400000e+00 1.27107709e-04]\n",
      " [2.99700000e+00 1.27263189e-04]]\n",
      "Variable:/Cell/Membrane:IKs:Value\n",
      "[[0.         0.03913757]\n",
      " [0.003      0.03817452]\n",
      " [0.00601    0.03730284]\n",
      " ...\n",
      " [2.991      0.05092882]\n",
      " [2.994      0.05075736]\n",
      " [2.997      0.05058649]]\n",
      "Variable:/Cell/Membrane:INa:Value\n",
      "[[ 0.00000000e+00 -1.32182962e-03]\n",
      " [ 3.00000000e-03 -1.27795829e-03]\n",
      " [ 6.01000000e-03 -1.19984913e-03]\n",
      " ...\n",
      " [ 2.99100000e+00 -1.18286554e-03]\n",
      " [ 2.99400000e+00 -1.18468886e-03]\n",
      " [ 2.99700000e+00 -1.18651049e-03]]\n",
      "Variable:/Cell/Membrane:INaCa:Value\n",
      "[[ 0.00000000e+00 -7.95738919e+00]\n",
      " [ 3.00000000e-03 -7.84659460e+00]\n",
      " [ 6.01000000e-03 -7.86378532e+00]\n",
      " ...\n",
      " [ 2.99100000e+00 -7.85657825e+00]\n",
      " [ 2.99400000e+00 -7.85633533e+00]\n",
      " [ 2.99700000e+00 -7.85609710e+00]]\n",
      "Variable:/Cell/Membrane:INaK:Value\n",
      "[[0.00000000e+00 1.47677938e+01]\n",
      " [3.00000000e-03 1.47432196e+01]\n",
      " [6.01000000e-03 1.47203837e+01]\n",
      " ...\n",
      " [2.99100000e+00 1.24935892e+01]\n",
      " [2.99400000e+00 1.24914174e+01]\n",
      " [2.99700000e+00 1.24892566e+01]]\n",
      "Variable:/Cell/Membrane:INab:Value\n",
      "[[ 0.00000000e+00 -8.88880680e+00]\n",
      " [ 3.00000000e-03 -8.90198444e+00]\n",
      " [ 6.01000000e-03 -8.91388023e+00]\n",
      " ...\n",
      " [ 2.99100000e+00 -9.19897109e+00]\n",
      " [ 2.99400000e+00 -9.19901968e+00]\n",
      " [ 2.99700000e+00 -9.19906739e+00]]\n",
      "Variable:/Cell/Membrane:If:Value\n",
      "[[ 0.         -1.8151227 ]\n",
      " [ 0.003      -1.8313642 ]\n",
      " [ 0.00601    -1.8465983 ]\n",
      " ...\n",
      " [ 2.991      -1.86910442]\n",
      " [ 2.994      -1.87416782]\n",
      " [ 2.997      -1.87921873]]\n",
      "Variable:/Cell/Membrane:Isus:Value\n",
      "[[0.         0.00706787]\n",
      " [0.003      0.00692492]\n",
      " [0.00601    0.0067556 ]\n",
      " ...\n",
      " [2.991      0.00647619]\n",
      " [2.994      0.00648307]\n",
      " [2.997      0.00648994]]\n",
      "Variable:/Cell/Membrane:It:Value\n",
      "[[0.         0.07124603]\n",
      " [0.003      0.06966446]\n",
      " [0.00601    0.06733043]\n",
      " ...\n",
      " [2.991      0.06611368]\n",
      " [2.994      0.06617327]\n",
      " [2.997      0.06623275]]\n",
      "Variable:/Cell/Membrane:Its:Value\n",
      "[[0.         0.954338  ]\n",
      " [0.003      0.95431708]\n",
      " [0.00601    0.95441419]\n",
      " ...\n",
      " [2.991      0.95554678]\n",
      " [2.994      0.9555297 ]\n",
      " [2.997      0.95551264]]\n"
     ]
    }
   ],
   "source": [
    "for aFullPN in FullPNs_for_plot:\n",
    "    print( aFullPN )\n",
    "    print( Data_dict[ aFullPN ])"
   ]
  },
  {
   "cell_type": "code",
   "execution_count": 15,
   "metadata": {},
   "outputs": [],
   "source": [
    "FullPNs_for_plot = [ \n",
    "    'Variable:/Cell/Membrane:V:Value',\n",
    "]"
   ]
  },
  {
   "cell_type": "code",
   "execution_count": 16,
   "metadata": {},
   "outputs": [
    {
     "data": {
      "text/plain": [
       "<matplotlib.legend.Legend at 0x7fbcb87b9bd0>"
      ]
     },
     "execution_count": 16,
     "metadata": {},
     "output_type": "execute_result"
    },
    {
     "data": {
      "image/png": "[encoded data removed]",
      "text/plain": [
       "<Figure size 432x288 with 1 Axes>"
      ]
     },
     "metadata": {
      "needs_background": "light"
     },
     "output_type": "display_data"
    }
   ],
   "source": [
    "plt.figure()\n",
    "for FullPN, d in Data_dict.items():\n",
    "    if FullPN in FullPNs_for_plot:\n",
    "        plt.plot( d[ :, 0 ], d[ :, 1 ], label = FullPN.split(':')[ 2 ] )\n",
    "\n",
    "plt.legend( loc = 'upper right' )"
   ]
  },
  {
   "cell_type": "code",
   "execution_count": 17,
   "metadata": {},
   "outputs": [
    {
     "name": "stdout",
     "output_type": "stream",
     "text": [
      "Variable:/Cell/Membrane:V:Value\n",
      "[[ 0.00000000e+00 -7.53194100e+01]\n",
      " [ 3.00000000e-03 -7.55191974e+01]\n",
      " [ 6.01000000e-03 -7.56980332e+01]\n",
      " ...\n",
      " [ 2.99100000e+00 -7.57538249e+01]\n",
      " [ 2.99400000e+00 -7.57492542e+01]\n",
      " [ 2.99700000e+00 -7.57446942e+01]]\n"
     ]
    }
   ],
   "source": [
    "for aFullPN in FullPNs_for_plot:\n",
    "    print( aFullPN )\n",
    "    print( Data_dict[ aFullPN ])"
   ]
  },
  {
   "cell_type": "code",
   "execution_count": 18,
   "metadata": {},
   "outputs": [],
   "source": [
    "FullPNs_for_plot = [ \n",
    "    'Variable:/Cell/Cytosol/ss:Ca:MolarConc',\n",
    "]"
   ]
  },
  {
   "cell_type": "code",
   "execution_count": 19,
   "metadata": {},
   "outputs": [
    {
     "data": {
      "text/plain": [
       "<matplotlib.legend.Legend at 0x7fbc69ba7ad0>"
      ]
     },
     "execution_count": 19,
     "metadata": {},
     "output_type": "execute_result"
    },
    {
     "data": {
      "image/png": "[encoded data removed]",
      "text/plain": [
       "<Figure size 432x288 with 1 Axes>"
      ]
     },
     "metadata": {
      "needs_background": "light"
     },
     "output_type": "display_data"
    }
   ],
   "source": [
    "plt.figure()\n",
    "for FullPN, d in Data_dict.items():\n",
    "    if FullPN in FullPNs_for_plot:\n",
    "        plt.plot( d[ :, 0 ], d[ :, 1 ], label = FullPN.split(':')[ 2 ] )\n",
    "\n",
    "plt.legend( loc = 'upper right' )"
   ]
  },
  {
   "cell_type": "markdown",
   "metadata": {},
   "source": [
    "## 細胞質のCa"
   ]
  },
  {
   "cell_type": "code",
   "execution_count": 47,
   "metadata": {},
   "outputs": [
    {
     "data": {
      "text/plain": [
       "<matplotlib.legend.Legend at 0x7fbca9c1d750>"
      ]
     },
     "execution_count": 47,
     "metadata": {},
     "output_type": "execute_result"
    },
    {
     "data": {
      "image/png": "[encoded data removed]",
      "text/plain": [
       "<Figure size 432x288 with 1 Axes>"
      ]
     },
     "metadata": {
      "needs_background": "light"
     },
     "output_type": "display_data"
    }
   ],
   "source": [
    "FullPNs_for_plot = [ \n",
    "    'Variable:/Cell/Cytosol/ss:Ca:MolarConc',\n",
    "    'Variable:/Cell/Cytosol/bulk_1:Ca:MolarConc',\n",
    "    'Variable:/Cell/Cytosol/bulk_2:Ca:MolarConc',\n",
    "    'Variable:/Cell/Cytosol/bulk_3:Ca:MolarConc',\n",
    "    'Variable:/Cell/Cytosol/bulk_4:Ca:MolarConc',\n",
    "]\n",
    "\n",
    "plot_colors = dict(\n",
    "    ss     = 'black',\n",
    "    bulk_1 = 'magenta',\n",
    "    bulk_2 = 'green',\n",
    "    bulk_3 = 'blue',\n",
    "    bulk_4 = 'red',\n",
    ")\n",
    "\n",
    "plt.figure()\n",
    "for FullPN, d in Data_dict.items():\n",
    "    if FullPN in FullPNs_for_plot:\n",
    "        name = FullPN.split(':')[ 1 ].split('/')[-1]\n",
    "        plt.plot( d[ :300, 0 ], d[ :300, 1 ] * 10e6, label = name, color = plot_colors[ name ] )\n",
    "\n",
    "plt.legend( loc = 'upper right' )"
   ]
  },
  {
   "cell_type": "markdown",
   "metadata": {},
   "source": [
    "<img width=\"380\" align=\"left\" src=\"./ref/21298076-Fig3A.png\">\n",
    "\n",
    "#### Figure 3. Ca<sup>2+</sup> dynamics of the model.\n",
    "(A) The Ca2+ transients at different parts of the cytosol differ from the average cytosolic Ca2+ signal. The x-coordinates of the compartments are as follows: subspace 0.01 µm, bulk1 = 0.8325 µm, bulk2 = 2.4575 µm, bulk3 = 4.0825 µm, and bulk4 = 5.7075 µm; SL = 0 µm. (B) Spatiotemporal representation of [Ca2+] demonstrates clearly the divergence of both the amplitude and delay of Ca2+ release in different parts of the cytosol. (C) and (D) The model reproduces the experimentally found biphasic increment during the upstroke of the global Ca2+ transient [7]. (E) Release rates of the two phases of the Ca2+ transient in experiments by Hatem et al. [7] and simulations. The two values of release rates (arrows in (C) indicate the stages of release) were obtained with a linear fit to normalized Ca2+ transients.\n",
    "https://doi.org/10.1371/journal.pcbi.1001067.g003"
   ]
  },
  {
   "cell_type": "markdown",
   "metadata": {},
   "source": [
    "## $J_{rel}$"
   ]
  },
  {
   "cell_type": "code",
   "execution_count": 48,
   "metadata": {},
   "outputs": [
    {
     "data": {
      "text/plain": [
       "<matplotlib.legend.Legend at 0x7fbc8996e390>"
      ]
     },
     "execution_count": 48,
     "metadata": {},
     "output_type": "execute_result"
    },
    {
     "data": {
      "image/png": "[encoded data removed]",
      "text/plain": [
       "<Figure size 432x288 with 1 Axes>"
      ]
     },
     "metadata": {
      "needs_background": "light"
     },
     "output_type": "display_data"
    }
   ],
   "source": [
    "FullPNs_for_plot = [ \n",
    "    'Variable:/Cell/Cytosol/ss:Jrel:Value',\n",
    "    'Variable:/Cell/Cytosol/bulk_3:Jrel:Value',\n",
    "    'Variable:/Cell/Cytosol/bulk_2:Jrel:Value',\n",
    "    'Variable:/Cell/Cytosol/bulk_1:Jrel:Value',\n",
    "]\n",
    "\n",
    "plot_colors = dict(\n",
    "    ss     = 'green',\n",
    "    bulk_1 = 'black',\n",
    "    bulk_2 = 'red',\n",
    "    bulk_3 = 'blue',\n",
    ")\n",
    "\n",
    "name_table = dict(\n",
    "    ss     = 'SR4 (junct.)',\n",
    "    bulk_1 = 'SR1',\n",
    "    bulk_2 = 'SR2',\n",
    "    bulk_3 = 'SR3',\n",
    ")\n",
    "\n",
    "plt.figure()\n",
    "for FullPN, d in Data_dict.items():\n",
    "    if FullPN in FullPNs_for_plot:\n",
    "        name = FullPN.split(':')[ 1 ].split('/')[-1]\n",
    "        plt.plot( d[ :100, 0 ], d[ :100, 1 ], label = name_table[ name ], color = plot_colors[ name ] )\n",
    "\n",
    "plt.legend( loc = 'upper right' )"
   ]
  },
  {
   "cell_type": "markdown",
   "metadata": {},
   "source": [
    "<img width=\"400\" align=\"left\" src=\"./ref/21298076-Fig4C.png\">\n",
    "\n",
    "#### Figure 4. SR Ca<sup>2+</sup> dynamics of the model.\n",
    "(A) and (B) Inhibition of the SR Ca2+ release with ryanodine greatly reduces the Ca2+ transient amplitude in both experiments [7] and simulations. Detailed analysis indicates that the SR Ca2+ release generates 77% of the Ca2+ transient amplitude, which is in line with the experimental findings 79±6% of Hatem et al. [7]. (C) and (D) Most of the Ca2+ release is generated from the junctional compartment. (E) and (F) During the uptake of Ca2+ from the cytosol to the SR, the SERCA buffers the Ca2+ and generates a delay in the fluxes between the cytosol to SERCA and SERCA to SR. At the end of the diastolic phase, there is some diffusion of Ca2+ in the SR, which balances the concentration differences in different parts of the SR.\n",
    "https://doi.org/10.1371/journal.pcbi.1001067.g004"
   ]
  },
  {
   "cell_type": "markdown",
   "metadata": {},
   "source": [
    "## SR[Ca<sup>2+</sup>]"
   ]
  },
  {
   "cell_type": "code",
   "execution_count": 52,
   "metadata": {
    "scrolled": true
   },
   "outputs": [
    {
     "data": {
      "text/plain": [
       "<matplotlib.legend.Legend at 0x7fbc6a39bcd0>"
      ]
     },
     "execution_count": 52,
     "metadata": {},
     "output_type": "execute_result"
    },
    {
     "data": {
      "image/png": "[encoded data removed]",
      "text/plain": [
       "<Figure size 432x288 with 1 Axes>"
      ]
     },
     "metadata": {
      "needs_background": "light"
     },
     "output_type": "display_data"
    }
   ],
   "source": [
    "FullPNs_for_plot = [ \n",
    "    'Variable:/Cell/SR_4:Ca:MolarConc',\n",
    "    'Variable:/Cell/SR_3:Ca:MolarConc',\n",
    "    'Variable:/Cell/SR_2:Ca:MolarConc',\n",
    "    'Variable:/Cell/SR_1:Ca:MolarConc',\n",
    "]\n",
    "\n",
    "plot_colors = dict(\n",
    "    SR_1 = 'black',\n",
    "    SR_2 = 'red',\n",
    "    SR_3 = 'blue',\n",
    "    SR_4 = 'green',\n",
    ")\n",
    "\n",
    "plt.figure()\n",
    "for FullPN, d in Data_dict.items():\n",
    "    if FullPN in FullPNs_for_plot:\n",
    "        name = FullPN.split(':')[ 1 ].split('/')[-1]\n",
    "        plt.plot( d[ :333, 0 ], d[ :333, 1 ] * 1000., label = name, color = plot_colors[ name ] )\n",
    "\n",
    "plt.legend( loc = 'upper right' )"
   ]
  },
  {
   "cell_type": "markdown",
   "metadata": {},
   "source": [
    "<img width=\"400\" align=\"left\" src=\"./ref/21298076-Fig4D.png\">\n",
    "\n",
    "#### Figure 4. SR Ca<sup>2+</sup> dynamics of the model.\n",
    "(A) and (B) Inhibition of the SR Ca2+ release with ryanodine greatly reduces the Ca2+ transient amplitude in both experiments [7] and simulations. Detailed analysis indicates that the SR Ca2+ release generates 77% of the Ca2+ transient amplitude, which is in line with the experimental findings 79±6% of Hatem et al. [7]. (C) and (D) Most of the Ca2+ release is generated from the junctional compartment. (E) and (F) During the uptake of Ca2+ from the cytosol to the SR, the SERCA buffers the Ca2+ and generates a delay in the fluxes between the cytosol to SERCA and SERCA to SR. At the end of the diastolic phase, there is some diffusion of Ca2+ in the SR, which balances the concentration differences in different parts of the SR.\n",
    "https://doi.org/10.1371/journal.pcbi.1001067.g004"
   ]
  },
  {
   "cell_type": "markdown",
   "metadata": {},
   "source": [
    "## $J_{SERCA}$"
   ]
  },
  {
   "cell_type": "code",
   "execution_count": 54,
   "metadata": {},
   "outputs": [
    {
     "data": {
      "text/plain": [
       "<matplotlib.legend.Legend at 0x7fbc99f31bd0>"
      ]
     },
     "execution_count": 54,
     "metadata": {},
     "output_type": "execute_result"
    },
    {
     "data": {
      "image/png": "[encoded data removed]",
      "text/plain": [
       "<Figure size 432x288 with 1 Axes>"
      ]
     },
     "metadata": {
      "needs_background": "light"
     },
     "output_type": "display_data"
    }
   ],
   "source": [
    "FullPNs_for_plot = [ \n",
    "    'Variable:/Cell/Cytosol/ss:J_bulkSERCA:Value',\n",
    "    'Variable:/Cell/Cytosol/bulk_3:J_bulkSERCA:Value',\n",
    "    'Variable:/Cell/Cytosol/bulk_2:J_bulkSERCA:Value',\n",
    "    'Variable:/Cell/Cytosol/bulk_1:J_bulkSERCA:Value',\n",
    "]\n",
    "\n",
    "plot_colors = dict(\n",
    "    ss     = 'green',\n",
    "    bulk_1 = 'black',\n",
    "    bulk_2 = 'red',\n",
    "    bulk_3 = 'blue',\n",
    ")\n",
    "\n",
    "name_table = dict(\n",
    "    ss     = 'SR4 (junct.)',\n",
    "    bulk_1 = 'SR1',\n",
    "    bulk_2 = 'SR2',\n",
    "    bulk_3 = 'SR3',\n",
    ")\n",
    "\n",
    "plt.figure()\n",
    "for FullPN, d in Data_dict.items():\n",
    "    if FullPN in FullPNs_for_plot:\n",
    "        name = FullPN.split(':')[ 1 ].split('/')[-1]\n",
    "        plt.plot( d[ :333, 0 ], d[ :333, 1 ], label = name_table[ name ], color = plot_colors[ name ] )\n",
    "\n",
    "plt.legend( loc = 'upper right' )"
   ]
  },
  {
   "cell_type": "markdown",
   "metadata": {},
   "source": [
    "<img width=\"400\" align=\"left\" src=\"./ref/21298076-Fig4E.png\">\n",
    "\n",
    "#### Figure 4. SR Ca<sup>2+</sup> dynamics of the model.\n",
    "(A) and (B) Inhibition of the SR Ca2+ release with ryanodine greatly reduces the Ca2+ transient amplitude in both experiments [7] and simulations. Detailed analysis indicates that the SR Ca2+ release generates 77% of the Ca2+ transient amplitude, which is in line with the experimental findings 79±6% of Hatem et al. [7]. (C) and (D) Most of the Ca2+ release is generated from the junctional compartment. (E) and (F) During the uptake of Ca2+ from the cytosol to the SR, the SERCA buffers the Ca2+ and generates a delay in the fluxes between the cytosol to SERCA and SERCA to SR. At the end of the diastolic phase, there is some diffusion of Ca2+ in the SR, which balances the concentration differences in different parts of the SR.\n",
    "https://doi.org/10.1371/journal.pcbi.1001067.g004"
   ]
  },
  {
   "cell_type": "markdown",
   "metadata": {},
   "source": [
    "## $J_{SERCA,SR}$"
   ]
  },
  {
   "cell_type": "code",
   "execution_count": 58,
   "metadata": {},
   "outputs": [
    {
     "data": {
      "text/plain": [
       "<matplotlib.legend.Legend at 0x7fbca9fa6650>"
      ]
     },
     "execution_count": 58,
     "metadata": {},
     "output_type": "execute_result"
    },
    {
     "data": {
      "image/png": "[encoded data removed]",
      "text/plain": [
       "<Figure size 432x288 with 1 Axes>"
      ]
     },
     "metadata": {
      "needs_background": "light"
     },
     "output_type": "display_data"
    }
   ],
   "source": [
    "FullPNs_for_plot = [ \n",
    "    'Variable:/Cell/Cytosol/ss:J_SERCASR:Value',\n",
    "    'Variable:/Cell/Cytosol/bulk_3:J_SERCASR:Value',\n",
    "    'Variable:/Cell/Cytosol/bulk_2:J_SERCASR:Value',\n",
    "    'Variable:/Cell/Cytosol/bulk_1:J_SERCASR:Value',\n",
    "]\n",
    "\n",
    "plot_colors = dict(\n",
    "    ss     = 'green',\n",
    "    bulk_1 = 'black',\n",
    "    bulk_2 = 'red',\n",
    "    bulk_3 = 'blue',\n",
    ")\n",
    "\n",
    "name_table = dict(\n",
    "    ss     = 'SR4 (junct.)',\n",
    "    bulk_1 = 'SR1',\n",
    "    bulk_2 = 'SR2',\n",
    "    bulk_3 = 'SR3',\n",
    ")\n",
    "\n",
    "plt.figure()\n",
    "for FullPN, d in Data_dict.items():\n",
    "    if FullPN in FullPNs_for_plot:\n",
    "        name = FullPN.split(':')[ 1 ].split('/')[-1]\n",
    "        plt.plot( d[ :333, 0 ], d[ :333, 1 ], label = name_table[ name ], color = plot_colors[ name ] )\n",
    "\n",
    "plt.legend( loc = 'upper right' )"
   ]
  },
  {
   "cell_type": "markdown",
   "metadata": {},
   "source": [
    "<img width=\"400\" align=\"left\" src=\"./ref/21298076-Fig4F.png\">\n",
    "\n",
    "#### Figure 4. SR Ca<sup>2+</sup> dynamics of the model.\n",
    "(A) and (B) Inhibition of the SR Ca2+ release with ryanodine greatly reduces the Ca2+ transient amplitude in both experiments [7] and simulations. Detailed analysis indicates that the SR Ca2+ release generates 77% of the Ca2+ transient amplitude, which is in line with the experimental findings 79±6% of Hatem et al. [7]. (C) and (D) Most of the Ca2+ release is generated from the junctional compartment. (E) and (F) During the uptake of Ca2+ from the cytosol to the SR, the SERCA buffers the Ca2+ and generates a delay in the fluxes between the cytosol to SERCA and SERCA to SR. At the end of the diastolic phase, there is some diffusion of Ca2+ in the SR, which balances the concentration differences in different parts of the SR.\n",
    "https://doi.org/10.1371/journal.pcbi.1001067.g004"
   ]
  },
  {
   "cell_type": "code",
   "execution_count": 20,
   "metadata": {},
   "outputs": [
    {
     "name": "stdout",
     "output_type": "stream",
     "text": [
      "Variable:/Cell/Cytosol/ss:Ca:MolarConc\n",
      "[[0.00000000e+00 1.62000000e-07]\n",
      " [3.00000000e-03 1.59112811e-07]\n",
      " [6.01000000e-03 1.58553388e-07]\n",
      " ...\n",
      " [2.99100000e+00 1.31481445e-07]\n",
      " [2.99400000e+00 1.31469065e-07]\n",
      " [2.99700000e+00 1.31456842e-07]]\n"
     ]
    }
   ],
   "source": [
    "for aFullPN in FullPNs_for_plot:\n",
    "    print( aFullPN )\n",
    "    print( Data_dict[ aFullPN ])"
   ]
  },
  {
   "cell_type": "code",
   "execution_count": 21,
   "metadata": {},
   "outputs": [],
   "source": [
    "FullPNs_INa = [ \n",
    "    'Variable:/Cell/Membrane:INa:Value',\n",
    "    'Variable:/Cell/Membrane:INam:Value',\n",
    "    'Variable:/Cell/Membrane:INah1:Value',\n",
    "    'Variable:/Cell/Membrane:INah2:Value',\n",
    "    'Variable:/Cell/Membrane:INamtau:Value',\n",
    "    'Variable:/Cell/Membrane:INah1tau:Value',\n",
    "    'Variable:/Cell/Membrane:INah2tau:Value',\n",
    "    'Variable:/Cell/Membrane:INaminf:Value',\n",
    "    'Variable:/Cell/Membrane:INahinf:Value',\n",
    "]"
   ]
  },
  {
   "cell_type": "code",
   "execution_count": 22,
   "metadata": {},
   "outputs": [
    {
     "name": "stdout",
     "output_type": "stream",
     "text": [
      "Variable:/Cell/Membrane:INa:Value\n",
      "[[ 0.00000000e+00 -1.32182962e-03]\n",
      " [ 3.00000000e-03 -1.27795829e-03]\n",
      " [ 6.01000000e-03 -1.19984913e-03]\n",
      " ...\n",
      " [ 2.99100000e+00 -1.18286554e-03]\n",
      " [ 2.99400000e+00 -1.18468886e-03]\n",
      " [ 2.99700000e+00 -1.18651049e-03]]\n",
      "Variable:/Cell/Membrane:INam:Value\n",
      "[[0.00000000e+00 2.77900000e-03]\n",
      " [3.00000000e-03 2.74596122e-03]\n",
      " [6.01000000e-03 2.68686620e-03]\n",
      " ...\n",
      " [2.99100000e+00 2.66804710e-03]\n",
      " [2.99400000e+00 2.66952895e-03]\n",
      " [2.99700000e+00 2.67100815e-03]]\n",
      "Variable:/Cell/Membrane:INah1:Value\n",
      "[[0.         0.90391   ]\n",
      " [0.003      0.90381901]\n",
      " [0.00601    0.9040289 ]\n",
      " ...\n",
      " [2.991      0.90904694]\n",
      " [2.994      0.90897406]\n",
      " [2.997      0.90890129]]\n",
      "Variable:/Cell/Membrane:INah2:Value\n",
      "[[0.         0.903967  ]\n",
      " [0.003      0.90394187]\n",
      " [0.00601    0.90399212]\n",
      " ...\n",
      " [2.991      0.90959549]\n",
      " [2.994      0.90956366]\n",
      " [2.997      0.90953087]]\n",
      "Variable:/Cell/Membrane:INamtau:Value\n",
      "[[0.00000000e+00 2.61248986e-05]\n",
      " [3.00000000e-03 2.60744782e-05]\n",
      " [6.01000000e-03 2.60301952e-05]\n",
      " ...\n",
      " [2.99100000e+00 2.60165428e-05]\n",
      " [2.99400000e+00 2.60176584e-05]\n",
      " [2.99700000e+00 2.60187718e-05]]\n",
      "Variable:/Cell/Membrane:INah1tau:Value\n",
      "[[0.         0.0302999 ]\n",
      " [0.003      0.0302999 ]\n",
      " [0.00601    0.03029991]\n",
      " ...\n",
      " [2.991      0.03029991]\n",
      " [2.994      0.03029991]\n",
      " [2.997      0.03029991]]\n",
      "Variable:/Cell/Membrane:INah2tau:Value\n",
      "[[0.         0.12299958]\n",
      " [0.003      0.12299961]\n",
      " [0.00601    0.12299963]\n",
      " ...\n",
      " [2.991      0.12299964]\n",
      " [2.994      0.12299963]\n",
      " [2.997      0.12299963]]\n",
      "Variable:/Cell/Membrane:INaminf:Value\n",
      "[[0.00000000e+00 2.81263393e-03]\n",
      " [3.00000000e-03 2.74520119e-03]\n",
      " [6.01000000e-03 2.68620882e-03]\n",
      " ...\n",
      " [2.99100000e+00 2.66806491e-03]\n",
      " [2.99400000e+00 2.66954672e-03]\n",
      " [2.99700000e+00 2.67102589e-03]]\n",
      "Variable:/Cell/Membrane:INahinf:Value\n",
      "[[0.         0.90125162]\n",
      " [0.003      0.90455606]\n",
      " [0.00601    0.9074297 ]\n",
      " ...\n",
      " [2.991      0.90831017]\n",
      " [2.994      0.90823833]\n",
      " [2.997      0.9081666 ]]\n"
     ]
    }
   ],
   "source": [
    "for aFullPN in FullPNs_INa:\n",
    "    print( aFullPN )\n",
    "    print( Data_dict[ aFullPN ])"
   ]
  }
 ],
 "metadata": {
  "kernelspec": {
   "display_name": "Python 2",
   "language": "python",
   "name": "python2"
  },
  "language_info": {
   "codemirror_mode": {
    "name": "ipython",
    "version": 2
   },
   "file_extension": ".py",
   "mimetype": "text/x-python",
   "name": "python",
   "nbconvert_exporter": "python",
   "pygments_lexer": "ipython2",
   "version": "2.7.16"
  }
 },
 "nbformat": 4,
 "nbformat_minor": 2
}
